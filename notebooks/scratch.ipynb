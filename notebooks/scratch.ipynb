{
 "cells": [
  {
   "cell_type": "code",
   "execution_count": 43,
   "metadata": {},
   "outputs": [
    {
     "name": "stderr",
     "output_type": "stream",
     "text": [
      "[nltk_data] Downloading package punkt to /root/nltk_data...\n",
      "[nltk_data]   Package punkt is already up-to-date!\n",
      "[nltk_data] Downloading package stopwords to /root/nltk_data...\n",
      "[nltk_data]   Package stopwords is already up-to-date!\n"
     ]
    },
    {
     "data": {
      "text/plain": [
       "True"
      ]
     },
     "execution_count": 43,
     "metadata": {},
     "output_type": "execute_result"
    }
   ],
   "source": [
    "import csv\n",
    "import random\n",
    "\n",
    "from datasets import load_dataset, concatenate_datasets\n",
    "import nltk\n",
    "from nltk.corpus import stopwords\n",
    "from nltk.stem import PorterStemmer\n",
    "from nltk.tokenize import word_tokenize\n",
    "import numpy as np\n",
    "import pandas as pd\n",
    "from sklearn.feature_extraction.text import TfidfVectorizer\n",
    "from sklearn.cluster import KMeans\n",
    "\n",
    "nltk.download('punkt')\n",
    "nltk.download('stopwords')"
   ]
  },
  {
   "cell_type": "code",
   "execution_count": 9,
   "metadata": {},
   "outputs": [
    {
     "data": {
      "application/vnd.jupyter.widget-view+json": {
       "model_id": "39268255b5cc454390f5825b42b34f8e",
       "version_major": 2,
       "version_minor": 0
      },
      "text/plain": [
       "Downloading readme:   0%|          | 0.00/1.22k [00:00<?, ?B/s]"
      ]
     },
     "metadata": {},
     "output_type": "display_data"
    },
    {
     "data": {
      "application/vnd.jupyter.widget-view+json": {
       "model_id": "a6de33688c8d48d2a559ae278ce3101f",
       "version_major": 2,
       "version_minor": 0
      },
      "text/plain": [
       "Downloading data files:   0%|          | 0/1 [00:00<?, ?it/s]"
      ]
     },
     "metadata": {},
     "output_type": "display_data"
    },
    {
     "data": {
      "application/vnd.jupyter.widget-view+json": {
       "model_id": "3ae81363481e42728ef27ed9013f0320",
       "version_major": 2,
       "version_minor": 0
      },
      "text/plain": [
       "Downloading data:   0%|          | 0.00/643k [00:00<?, ?B/s]"
      ]
     },
     "metadata": {},
     "output_type": "display_data"
    },
    {
     "data": {
      "application/vnd.jupyter.widget-view+json": {
       "model_id": "c8cd8a74d24f40ddb7d93e0dfb3aafc3",
       "version_major": 2,
       "version_minor": 0
      },
      "text/plain": [
       "Extracting data files:   0%|          | 0/1 [00:00<?, ?it/s]"
      ]
     },
     "metadata": {},
     "output_type": "display_data"
    },
    {
     "data": {
      "application/vnd.jupyter.widget-view+json": {
       "model_id": "1954b04262d34a15a55a8a4767fa5149",
       "version_major": 2,
       "version_minor": 0
      },
      "text/plain": [
       "Generating train split: 0 examples [00:00, ? examples/s]"
      ]
     },
     "metadata": {},
     "output_type": "display_data"
    }
   ],
   "source": [
    "verified_camel = load_dataset(\"LDJnr/Verified-Camel\", split=\"train\")\n",
    "pure_dove = load_dataset(\"LDJnr/Pure-Dove\", split=\"train\")\n",
    "llm_eval = load_dataset(\"shahules786/llm-eval\", split=\"train\")\n",
    "im_feeling_curious = load_dataset(\"xiyuez/im-feeling-curious\", split=\"train\")"
   ]
  },
  {
   "cell_type": "code",
   "execution_count": 36,
   "metadata": {},
   "outputs": [],
   "source": [
    "verified_camel_examples = [\n",
    "    (conversation[0][\"input\"], conversation[0][\"output\"])\n",
    "    for conversation in verified_camel[\"conversation\"]\n",
    "]\n",
    "\n",
    "pure_dove_examples = [\n",
    "    (conversation[0][\"input\"], conversation[0][\"output\"])\n",
    "    for conversation in pure_dove[\"conversation\"]\n",
    "]\n",
    "\n",
    "llm_eval_examples = list(zip(llm_eval[\"instruction\"], llm_eval[\"response\"]))\n",
    "\n",
    "im_feeling_curious_examples = list(zip(im_feeling_curious[\"question\"], im_feeling_curious[\"answer\"]))"
   ]
  },
  {
   "cell_type": "code",
   "execution_count": 37,
   "metadata": {},
   "outputs": [],
   "source": [
    "stop_words = set(stopwords.words('english'))\n",
    "porter_stemmer = PorterStemmer()\n",
    "\n",
    "# Preprocessing\n",
    "def preprocess(text):\n",
    "    tokens = word_tokenize(text)\n",
    "    filtered = [porter_stemmer.stem(w) for w in tokens if not w in stop_words]\n",
    "    return \" \".join(filtered)\n",
    "\n",
    "def cluster(data: list[str], n_clusters: int):\n",
    "    # Preprocess data\n",
    "    preprocessed_data = [preprocess(text) for text in data]\n",
    "\n",
    "    # Vectorization\n",
    "    vectorizer = TfidfVectorizer()\n",
    "    X = vectorizer.fit_transform(preprocessed_data)\n",
    "\n",
    "    # Clustering\n",
    "    model = KMeans(n_clusters=n_clusters, init='k-means++', max_iter=100, n_init=1)\n",
    "    model.fit(X)\n",
    "\n",
    "    # Get cluster labels for each sentence\n",
    "    labels = model.labels_\n",
    "\n",
    "    # Create a DataFrame with sentences and their corresponding cluster labels\n",
    "    df = pd.DataFrame({'Sentence': data, 'Cluster': labels})\n",
    "\n",
    "    # Group by cluster labels to get indices of sentences in each cluster\n",
    "    clusters = df.groupby('Cluster').groups\n",
    "\n",
    "    cluster_indices = [\n",
    "        indices.tolist()\n",
    "        for cluster, indices in clusters.items()\n",
    "    ]\n",
    "\n",
    "    return cluster_indices"
   ]
  },
  {
   "cell_type": "code",
   "execution_count": 33,
   "metadata": {},
   "outputs": [],
   "source": [
    "def pick_indices(data, indices):\n",
    "    return [\n",
    "        data[i]\n",
    "        for i in indices\n",
    "    ]"
   ]
  },
  {
   "cell_type": "code",
   "execution_count": 41,
   "metadata": {},
   "outputs": [],
   "source": [
    "num_samples = 20\n",
    "\n",
    "examples = [\n",
    "    example\n",
    "    for dataset in [\n",
    "        verified_camel_examples,\n",
    "        pure_dove_examples,\n",
    "        llm_eval_examples,\n",
    "        im_feeling_curious_examples,\n",
    "    ]\n",
    "    for example in pick_indices(\n",
    "        dataset, \n",
    "        list(map(random.choice, cluster([\n",
    "            input\n",
    "            for input, output in dataset\n",
    "        ], num_samples))),\n",
    "    )\n",
    "]"
   ]
  },
  {
   "cell_type": "code",
   "execution_count": 46,
   "metadata": {},
   "outputs": [],
   "source": [
    "samples_to_add = [\n",
    "    {\n",
    "        \"Refusal\": \"False\",\n",
    "        \"System\": \"\",\n",
    "        \"User\": input,\n",
    "        \"Assistant\": output,\n",
    "    }\n",
    "    for input, output in examples\n",
    "]"
   ]
  },
  {
   "cell_type": "code",
   "execution_count": 47,
   "metadata": {},
   "outputs": [],
   "source": [
    "with open('../prompts.csv', 'a', newline='') as f:\n",
    "    writer = csv.writer(f)\n",
    "    for sample in samples_to_add:\n",
    "        writer.writerow([sample[\"Refusal\"], sample[\"System\"], sample[\"User\"], sample[\"Assistant\"]])\n"
   ]
  },
  {
   "cell_type": "code",
   "execution_count": null,
   "metadata": {},
   "outputs": [
    {
     "data": {
      "text/plain": [
       "[['False',\n",
       "  '',\n",
       "  'What team has won the most Rose Bowls?',\n",
       "  'USC has played the most times in the Rose Bowl, with 33 appearances, followed by Michigan (20); Ohio State, Stanford, and Washington (14 each); and UCLA (12). Alabama, 4–1–1 in Rose Bowls, has made the most appearances of any team outside the Pac-12 and Big Ten conferences.'],\n",
       " ['False',\n",
       "  '',\n",
       "  'How fast does a 22 caliber bullet travel?',\n",
       "  'Many .22 LR cartridges use bullets lighter than the standard 40 gr, fired at even higher velocities. Hyper-velocity bullets usually weigh around 30 to 32 gr (1.9 to 2.1 g) and can have a muzzle velocity of 1,400 to 1,800 feet per second (430 to 550 m/s).'],\n",
       " ['False',\n",
       "  '',\n",
       "  'Why are the atomic masses listed on the periodic table not whole numbers?',\n",
       "  'The atomic mass reported on a periodic table is the weighted average of all the naturally occuring isotopes. Being an average it would be most unlikely to be a whole number. The mass of an individual atom in atomic mass units is the mass relative to carbon-12.'],\n",
       " ['False',\n",
       "  '',\n",
       "  'Is the piano a string instrument?',\n",
       "  'There are also problems with classifying certain keyboard instruments. For example, the piano has strings, but they are struck by hammers, so it is not clear whether it should be classified as a string instrument or a percussion instrument.'],\n",
       " ['False',\n",
       "  '',\n",
       "  'Do bananas have seeds in them?',\n",
       "  'Wild bananas, prior to domestication, do have seeds. But like seedless grapes, humans have found and cultivated seedless mutations. So now all banana trees come from cuttings and there are no seeds in the fruit. The little brown specs in a banana are the vestiges of seeds that did not develop because of the mutation.'],\n",
       " ['False',\n",
       "  '',\n",
       "  'How many miles per hour does the earth move around the sun?',\n",
       "  'The circumference of the Earth at the equator is 25,000 miles. The Earth rotates in about 24 hours. Therefore, if you were to hang above the surface of the Earth at the equator without moving, you would see 25,000 miles pass by in 24 hours, at a speed of 25000/24 or just over 1000 miles per hour.'],\n",
       " ['False',\n",
       "  '',\n",
       "  'Which country gives the UK a Christmas tree every year?',\n",
       "  'The Trafalgar Square Christmas tree has been an annual gift to the people of Britain by the city of Oslo each year since 1947 as a token of gratitude for British support of Norway during the Second World War.'],\n",
       " ['False',\n",
       "  '',\n",
       "  'How many children can one family have in china?',\n",
       "  \"The previous rules allowed two children for couples in which both parents are only children. The old policy also made exceptions for China's officially recognized ethnic minorities and rural couples whose first child was a girl or disabled.\"],\n",
       " ['False',\n",
       "  '',\n",
       "  'How long is the okapi tongue?',\n",
       "  \"Okapi slightly resembles to zebra because of the stripes, but it shares much more similarities with giraffe. It has long skull, large black eyes and very long, purplish tongue, just like giraffe. Okapi's tongue is 18 inches long and it can reach both its eyes and ears.\"],\n",
       " ['False',\n",
       "  '',\n",
       "  'When do you find out the babies gender?',\n",
       "  \"Most pregnant women find out their baby's sex (if they choose to know) during their mid-pregnancy ultrasound, usually between 16 and 20 weeks. However, the technician may not be able to tell for sure if she can't get a clear view of the baby's genitals.\"],\n",
       " ['False',\n",
       "  '',\n",
       "  'Who was the first president of all 50 states?',\n",
       "  \"Dwight D. Eisenhower was the first President of all 50 states. Hawaii, the 50th state, entered the union on August 21, 1959, during the Eishenhower's second term. Eisenhower was also the first President to hold a pilot's license.\"],\n",
       " ['False',\n",
       "  '',\n",
       "  'How much bigger is a california king?',\n",
       "  'A standard king is 4 inches wider than a California king, but a California king is 5 inches longer than a standard king. The Measurements: A standard king bed: 76 inches wide by 80 inches long. California king bed: 72 inches wide by 85 inches long.'],\n",
       " ['False',\n",
       "  '',\n",
       "  'Who was the first woman inducted into the Rock and Roll Hall of Fame?',\n",
       "  'Aretha Franklin (vocals, piano; born March 25, 1942)Aretha Franklin is the “Queen of Soul” and the first woman inducted into the Rock and Roll Hall of Fame. She is a singer of great passion and control whose finest recordings define ... Aretha Franklin Highlights.'],\n",
       " ['False',\n",
       "  '',\n",
       "  'Can fish breathe out of water?',\n",
       "  'Though some fish can breathe on land taking oxygen from air, most of the fish, when taken out of water, suffocate and die. This is because gill arches of fish collapse, when taken out of water, leaving the blood vessels no longer exposed to oxygen in air.'],\n",
       " ['False',\n",
       "  '',\n",
       "  'What does the word Pocahontas mean?',\n",
       "  '\"Pocahontas\" was a nickname, meaning \"the naughty one\" or \"spoiled child\". Her real name was Matoaka. The legend is that she saved a heroic John Smith from being clubbed to death by her father in 1607 - she would have been about 10 or 11 at the time.'],\n",
       " ['False',\n",
       "  '',\n",
       "  'Who makes Lincoln Logs?',\n",
       "  \"Lincoln Logs is the name of a US children's toy consisting of notched miniature logs, used to build small forts and buildings. They were invented by John Lloyd Wright, second son of the architect Frank Lloyd Wright.\"],\n",
       " ['False',\n",
       "  '',\n",
       "  'How many points do you get for a bullseye in archery?',\n",
       "  'In archery the term bullseye is not used, the centre being referred to as the Gold. Hitting the most central ring of an international target is worth 10 points, or an Imperial target 9 points in target archery. In darts it is 5 foot 8 inches (1.73m) above the floor.'],\n",
       " ['False',\n",
       "  '',\n",
       "  'How many senses does a human body have?',\n",
       "  'Most children are taught that the human body has five senses: sight, hearing, touch, taste, and smell. But many neurologists identify nine or more senses, and some list as many as 21.'],\n",
       " ['False',\n",
       "  '',\n",
       "  'Where was cricket invented?',\n",
       "  'Origin. No one knows when or where cricket began but there is a body of evidence, much of it circumstantial, that strongly suggests the game was devised during Saxon or Norman times by children living in the Weald, an area of dense woodlands and clearings in south-east England that lies across Kent and Sussex.'],\n",
       " ['False',\n",
       "  '',\n",
       "  'Who came up with manga?',\n",
       "  'Japanese cartoonist, Osamu Tezuka, known as the God of Manga and Godfather of Anime, invented the distinctive large eyes prominent in both manga and anime. His manga series, Astro Boy, went on to become the first Japanese television series to embody the aesthetic that became known worldwide as anime.']]"
      ]
     },
     "metadata": {},
     "output_type": "display_data"
    }
   ],
   "source": [
    "with open('../prompts.csv', 'r', newline='') as f:\n",
    "    reader = csv.reader(f)\n",
    "    result = [k for k in reader]\n",
    "\n",
    "result[-20:]"
   ]
  },
  {
   "cell_type": "code",
   "execution_count": null,
   "metadata": {},
   "outputs": [],
   "source": []
  }
 ],
 "metadata": {
  "kernelspec": {
   "display_name": "Python 3",
   "language": "python",
   "name": "python3"
  },
  "language_info": {
   "codemirror_mode": {
    "name": "ipython",
    "version": 3
   },
   "file_extension": ".py",
   "mimetype": "text/x-python",
   "name": "python",
   "nbconvert_exporter": "python",
   "pygments_lexer": "ipython3",
   "version": "3.10.12"
  }
 },
 "nbformat": 4,
 "nbformat_minor": 2
}
